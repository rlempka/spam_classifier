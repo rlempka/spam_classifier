{
 "cells": [
  {
   "cell_type": "code",
   "execution_count": 324,
   "metadata": {},
   "outputs": [],
   "source": [
    "import os\n",
    "import tarfile\n",
    "import urllib\n",
    "import shutil\n",
    "import email\n",
    "import nltk\n",
    "import numpy as np\n",
    "import sys\n",
    "import matplotlib.pyplot as plt\n",
    "\n",
    "from sklearn.model_selection import train_test_split\n",
    "from sklearn.model_selection import cross_val_score\n",
    "from sklearn.feature_extraction.text import CountVectorizer\n",
    "#nltk.download('stopwords')\n",
    "\n",
    "from nltk.corpus import stopwords\n",
    "\n",
    "from sklearn.ensemble import GradientBoostingClassifier\n",
    "\n",
    "\n",
    "\n",
    "urls = ['https://spamassassin.apache.org/old/publiccorpus/20021010_easy_ham.tar.bz2',\n",
    "       'https://spamassassin.apache.org/old/publiccorpus/20021010_hard_ham.tar.bz2',\n",
    "       'https://spamassassin.apache.org/old/publiccorpus/20021010_spam.tar.bz2',\n",
    "       'https://spamassassin.apache.org/old/publiccorpus/20030228_easy_ham.tar.bz2',\n",
    "       'https://spamassassin.apache.org/old/publiccorpus/20030228_easy_ham_2.tar.bz2',\n",
    "       'https://spamassassin.apache.org/old/publiccorpus/20030228_hard_ham.tar.bz2',\n",
    "       'https://spamassassin.apache.org/old/publiccorpus/20030228_spam.tar.bz2',\n",
    "       'https://spamassassin.apache.org/old/publiccorpus/20030228_spam_2.tar.bz2',\n",
    "       'https://spamassassin.apache.org/old/publiccorpus/20050311_spam_2.tar.bz2']\n",
    "\n",
    "def spam_url_parser(url):\n",
    "    \"\"\"Checks a url to see if the data at the destination is ham or spam.\n",
    "    Returns the string 'ham' if the data is ham and 'spam' if the data\n",
    "    is spam.\"\"\"\n",
    "    \n",
    "    # Get everything in string after the first '_'\n",
    "    end_of_url = url.split('_', 1)[1]\n",
    "    \n",
    "    # Get everything before the '.tar.bz2' extension\n",
    "    data_name = end_of_url.split('.')[0]\n",
    "    \n",
    "    if 'ham' in data_name.split('_'):\n",
    "        return 'ham'\n",
    "    return 'spam'\n",
    "\n",
    "\n",
    "def get_unique_dirname(url):\n",
    "    \"\"\"To avoid overwriting files as we download the data we store in unique directory names\n",
    "    based on the end of each url\"\"\"\n",
    "    return url.split('/')[-1]"
   ]
  },
  {
   "cell_type": "code",
   "execution_count": 108,
   "metadata": {},
   "outputs": [],
   "source": [
    "SPAM_PATH = os.path.join('spam_data')\n",
    "HAM_PATH = os.path.join('ham_data')\n",
    "\n",
    "def fetch_spam_data(urls):\n",
    "    \"\"\"This function goes through all of the urls and fetches the spam and\n",
    "    ham data. The spam data is placed in the spam folder and the ham data\n",
    "    is placed in the ham folder. We also do a check to see if the appropriate\n",
    "    directories exists and if not we create them\"\"\"\n",
    "    for url in urls:\n",
    "        # need to make sure the directories are unique since the \n",
    "        # folder names within the zipped files are not unique\n",
    "        # and we will end up overwriting data if we unzip in same\n",
    "        # directory\n",
    "        unique_dir_name = get_unique_dirname(url)\n",
    "        if spam_url_parser(url) == 'spam':\n",
    "            path = os.path.join(SPAM_PATH, unique_dir_name)\n",
    "        else:\n",
    "            path = os.path.join(HAM_PATH, unique_dir_name)\n",
    "        if not os.path.isdir(path):\n",
    "                os.makedirs(path)\n",
    "        tgz_path = os.path.join(path, get_unique_dirname(url))\n",
    "        urllib.request.urlretrieve(url, tgz_path)\n",
    "        data_tgz = tarfile.open(tgz_path)\n",
    "        data_tgz.extractall(path=path)\n",
    "        data_tgz.close()\n",
    "        os.remove(tgz_path)"
   ]
  },
  {
   "cell_type": "code",
   "execution_count": 111,
   "metadata": {},
   "outputs": [],
   "source": [
    "# get the data\n",
    "\n",
    "fetch_spam_data(urls)"
   ]
  },
  {
   "cell_type": "code",
   "execution_count": 112,
   "metadata": {},
   "outputs": [],
   "source": [
    "# Move all of the files in the spam_data folder subdirectories\n",
    "# to the 'spam_data' directory\n",
    "\n",
    "count = 0\n",
    "paths = [SPAM_PATH, HAM_PATH]\n",
    "\n",
    "# Note the total number of files will reduce as there are a lot of\n",
    "# duplicate files between the data sets we  copied over\n",
    "for path in paths:\n",
    "    for subdir, dirs, files in os.walk(path):\n",
    "        for file in files:\n",
    "            #print os.path.join(subdir, file)\n",
    "            filepath = subdir + os.sep + file\n",
    "            shutil.move(filepath, os.path.join(path, file))\n"
   ]
  },
  {
   "cell_type": "code",
   "execution_count": 116,
   "metadata": {},
   "outputs": [],
   "source": [
    "# remove leftover directories\n",
    "for path in paths:\n",
    "    for subdir, dirs, files in os.walk(path):\n",
    "        if subdir != 'spam_data' and subdir != 'ham_data':\n",
    "            shutil.rmtree(subdir, ignore_errors=True)"
   ]
  },
  {
   "cell_type": "code",
   "execution_count": 117,
   "metadata": {},
   "outputs": [],
   "source": [
    "def get_email_content(email_path):\n",
    "    \"\"\"Function used to extract the actual email body/content from\n",
    "    each email\"\"\"\n",
    "    file = open(email_path,encoding='latin1')\n",
    "    try:\n",
    "        msg = email.message_from_file(file)\n",
    "        for part in msg.walk():\n",
    "            if part.get_content_type() == 'text/plain':\n",
    "                return part.get_payload() # prints the raw text\n",
    "    except Exception as e:\n",
    "        print(e)"
   ]
  },
  {
   "cell_type": "code",
   "execution_count": 209,
   "metadata": {},
   "outputs": [
    {
     "data": {
      "text/plain": [
       "['    Date:        Tue, 20 Aug 2002 17:27:47 -0500\\n    From:        Chris Garrigues <cwg-exmh@DeepEddy.Com>\\n    Message-ID:  <1029882468.3116.TMDA@deepeddy.vircio.com>\\n\\n\\n  | I\\'m hoping that all people with no additional sequences will notice are\\n  | purely cosmetic changes.\\n\\nWell, first, when exmh (the latest one with your changes) starts, I get...\\n\\ncan\\'t read \"flist(totalcount,unseen)\": no such element in array\\n    while executing\\n\"if {$flist(totalcount,$mhProfile(unseen-sequence)) > 0} {\\n\\tFlagInner spool iconspool labelup\\n    } else {\\n\\tFlagInner down icondown labeldown\\n    }\"\\n    (procedure \"Flag_MsgSeen\" line 3)\\n    invoked from within\\n\"Flag_MsgSeen\"\\n    (procedure \"MsgSeen\" line 8)\\n    invoked from within\\n\"MsgSeen $msgid\"\\n    (procedure \"MsgShow\" line 12)\\n    invoked from within\\n\"MsgShow $msgid\"\\n    (procedure \"MsgChange\" line 17)\\n    invoked from within\\n\"MsgChange 4862 show\"\\n    invoked from within\\n\"time [list MsgChange $msgid $show\"\\n    (procedure \"Msg_Change\" line 3)\\n    invoked from within\\n\"Msg_Change $msg(id) $show\"\\n    (procedure \"Msg_Show\" line 7)\\n    invoked from within\\n\"Msg_Show cur\"\\n    (\"eval\" body line 1)\\n    invoked from within\\n\"eval $msgShowProc\"\\n    (procedure \"FolderChange\" line 55)\\n    invoked from within\\n\"FolderChange inbox {Msg_Show cur}\"\\n    invoked from within\\n\"time [list  FolderChange $folder $msgShowProc\"\\n    (procedure \"Folder_Change\" line 3)\\n    invoked from within\\n\"Folder_Change $exmh(folder)\"\\n    (procedure \"Exmh\" line 101)\\n    invoked from within\\n\"Exmh\"\\n    (\"after\" script)\\n\\nwhich is probably related to my not having an \"unseen\" sequence anywhere\\n(certainly not in inbox) - I read all of my outstanding mail before I\\ntried this new exmh ...\\n\\nSecond, I\\'ve been used to having a key binding which was to Msg_MarkUnseen\\nwhich doesn\\'t seem to exist any more, and I\\'m not sure what I should replace\\nthat with.   There\\'s obviously a way as the \"Sequences\" menu does this.\\nThe \"Mark Unseen\" menu entry in the message \"More\" menu is still wanting\\nthat function as well...\\n\\n  | For those who have other sequences defined, the window will widen to\\n  | display the other sequences.\\n\\nAny chance of having that lengthen instead?   I like all my exmh stuff\\nin nice columns (fits the display better).   That is, I use the detached\\nfolder list, one column.   The main exmh window takes up full screen,\\ntop to bottom, but less than half the width, etc...\\n\\nI have space for more sequences, in the \"unseen\" window, as long as they\\nremain once nice narrow window (best would be if the sequences could be\\nordered by some preference, then ones which didn\\'t fit would just fall\\noff the bottom, and not be shown).\\n\\nI\\'d also prefer it if that window had no unusual background colouring,\\njust one constant colour - I have been running the unseen window with\\nbackground black, on a root window that is all black, with no borders or\\nother decorations, but made \"sticky\" - the appearance is just like the\\nfolders with unseen messages (and their counts) are written into the\\nroot window (because it is sticky, this small display follows me around\\nand do I can see when new mail needs processing).\\n\\nI also find that I tend to have a bunch of sequences that only ever occur\\nin one folder (some I had forgotten I ever created).  So in addition to\\nthe \"sequences to always show\" and \"sequences to never show\", a\\npreference to only show sequences that occur in more than one folder\\nwould be useful, and then have the sequences that occor only in the\\nfolder I\\'m visiting appear in the list when that folder is current.\\nThis is just to keep the list size somewhat manageable while remaining\\nproductive (I quite often use a sequence to remember a particular message\\nin a folder - the name is used only there, and only for one message,\\nit gives me a handle on the message which remains as the folder is\\npacked, sorted, etc).\\n\\nI haven\\'t updated my exmh for some time now, so I\\'m not sure if this\\nnext one is new, or just new since 2.5, but the Sequences menu (on the\\nbar with New Flist Search ...) only contains \"unseen\" and \"urgent\".\\nIt would be useful if it contained all of the sequences that the folder\\nhappens to have defined.   A \"New sequence\" entry would also be useful\\n(to mark the message with a sequence name that didn\\'t previously exist,\\nwhich can be done now using \"Search\" and the pick interface, but is\\nclumsy that way)\\n\\nActually, you once could, now when I try this, entering a sequence name\\nin the pick box, and a single message number, or a range N-N in the\\nlist of messages, and no pick attributes at all, I now get ...\\n\\nsyntax error in expression \"int(1+1+(1 hit-1)*(3868-1-2)/(4878-1))\"\\n    while executing\\n\"expr int($minlineno+1+($msgid-$minmsgid)*($maxlineno-$minlineno-2)/($maxmsgid-$minmsgid))\"\\n    (procedure \"Ftoc_FindMsg\" line 46)\\n    invoked from within\\n\"Ftoc_FindMsg $msg\"\\n    (procedure \"Ftoc_FindMsgs\" line 5)\\n    invoked from within\\n\"Ftoc_FindMsgs $msgids\"\\n    (procedure \"Ftoc_PickMsgs\" line 5)\\n    invoked from within\\n\"Ftoc_PickMsgs $pick(ids) $pick(addtosel)\"\\n    (procedure \"PickInner\" line 13)\\n    invoked from within\\n\"PickInner {exec pick +inbox -list} {4852 -sequence mercury}\"\\n    (\"uplevel\" body line 1)\\n    invoked from within\\n\"uplevel #0 $cmd\"\\n    (procedure \"busyCursorInner\" line 8)\\n    invoked from within\\n\"busyCursorInner $cmd $widgets\"\\n    (procedure \"busyCursorHack\" line 32)\\n    invoked from within\\n\"busyCursorHack $args\"\\n    (\"cursor\" arm line 1)\\n    invoked from within\\n\"switch $busy(style) {\\n\\ticon\\t\\t{busyIcon $args}\\n\\tcursorAll\\t{busyCursor $args}\\n\\tcursor\\t\\t{busyCursorHack $args}\\n\\tdefault\\t\\t{eval $args}\\n    }\"\\n    (procedure \"busy\" line 3)\\n    invoked from within\\n\"busy PickInner $cmd $msgs\"\\n    (procedure \"Pick_It\" line 51)\\n    invoked from within\\n\"Pick_It\"\\n    invoked from within\\n\".pick.but.pick invoke\"\\n    (\"uplevel\" body line 1)\\n    invoked from within\\n\"uplevel #0 [list $w invoke]\"\\n    (procedure \"tkButtonUp\" line 7)\\n    invoked from within\\n\"tkButtonUp .pick.but.pick\\n\"\\n    (command bound to event)\\n\\nIt has been ages since I did this last though.   I tried adding a Subject\\nto pick on (easy as I know what\\'s in the message...) which made no difference.\\nLooks as if something is now saying \"1 hit\" when before it didn\\'t, or\\nsimilar.\\n\\n  | I\\'ve also changed the ftoc colorization as discussed briefly on the list a \\n  | week or so ago.\\n\\nAny chance of making the current message a little brighter background?\\nJust to make it stand out a fraction more than it does (maybe this is\\nmore apparent to me than many, as I use very small fonts everywhere,\\nthe background of the ftoc line isn\\'t very wide).\\n\\nHope this helps.\\n\\nkre\\n\\n\\n\\n_______________________________________________\\nExmh-workers mailing list\\nExmh-workers@redhat.com\\nhttps://listman.redhat.com/mailman/listinfo/exmh-workers\\n\\n']"
      ]
     },
     "execution_count": 209,
     "metadata": {},
     "output_type": "execute_result"
    }
   ],
   "source": [
    "content = [get_email_content('./ham_data/00001.1a31cc283af0060967a233d26548a6ce')]\n",
    "\n",
    "content"
   ]
  },
  {
   "cell_type": "code",
   "execution_count": 210,
   "metadata": {
    "scrolled": true
   },
   "outputs": [
    {
     "name": "stdout",
     "output_type": "stream",
     "text": [
      "[[ 1  1  1  1  1  2  1  1  1  1  1  1  1  1  1  1  1  1  1  1  1  1  1  1\n",
      "   1  1  1  4  1  1  1  1  1  5  1  1  1  1  1  4  1  1  1  1  2  3  1  2\n",
      "   1  1  1  1  1  3  1  3  2  1  1  2  1  2  1  1  3  1  1  1  1  1  4  1\n",
      "   1  1  1  1  2  1  1  2  2  2  1  1  1  1  2  1  2  1  1  1  3  1  1  1\n",
      "   1  1  2  1  2  3  1  2  1  1  2  2 12  1  1  1  1  1  1  1  2  2  3 10\n",
      "   2  3  1  1  1  1  1  2  2  2  2  1  1  1  2  1  1  1  1  1  2  1  1  1\n",
      "   1  1  1  2  1  3  1  2  1  2 25  1  1  1  1  1  1  1  1  1  1  2 23 10\n",
      "   1  1  1  1  1  2  2  1  1  1  1  1  1  1  2  1  1  1  4  1  9  2  1  2\n",
      "   2  2  2  1  3  3  4  1  1  2  2  2  3  1  1  1  6  1  2  1  1  1  1  2\n",
      "   1  7  1  1  1  1  1  1 11  2  3  1  2  1  1 18  1  1  1  1  1  2  2  1\n",
      "   1  1  1  1  1  2  1  1  1  1  2  1  1  1  7 13  6  1  1  2  1  1  2  1\n",
      "   1  1  1  1  1  1  2  1  1  1  1  2  1  1  1  1  1  3  2  1  1  2  2  1\n",
      "   1  8  1  1  4  1  3  2  3  1  1  1  1  2  1  2  1  1  1  1  8 25  3  5\n",
      "   1]]\n",
      "{'date': 84, 'tue': 288, '20': 6, 'aug': 38, '2002': 7, '17': 5, '27': 8, '47': 13, '0500': 0, 'chris': 62, 'garrigues': 133, 'cwg': 83, 'exmh': 108, 'deepeddy': 86, 'com': 70, 'message': 188, 'id': 147, '1029882468': 2, '3116': 9, 'tmda': 283, 'vircio': 298, 'hoping': 142, 'people': 223, 'additional': 23, 'sequences': 255, 'notice': 211, 'purely': 234, 'cosmetic': 75, 'changes': 61, 'well': 303, 'first': 113, 'latest': 162, 'one': 217, 'starts': 269, 'get': 134, 'read': 237, 'flist': 118, 'totalcount': 285, 'unseen': 289, 'element': 95, 'array': 36, 'executing': 106, 'mhprofile': 190, 'sequence': 254, 'flaginner': 117, 'spool': 267, 'iconspool': 146, 'labelup': 160, 'else': 96, 'icondown': 145, 'labeldown': 159, 'procedure': 231, 'flag_msgseen': 116, 'line': 166, 'invoked': 154, 'within': 309, 'msgseen': 201, 'msgid': 198, 'msgshow': 202, '12': 3, 'msgchange': 197, '4862': 15, 'show': 256, 'time': 281, 'list': 167, 'msg_change': 194, 'msg': 193, 'msg_show': 196, 'cur': 79, 'eval': 101, 'body': 45, 'msgshowproc': 203, 'folderchange': 121, '55': 18, 'inbox': 149, 'folder': 119, 'folder_change': 120, '101': 1, 'script': 249, 'probably': 230, 'related': 239, 'anywhere': 29, 'certainly': 58, 'outstanding': 220, 'mail': 174, 'tried': 286, 'new': 208, 'second': 251, 'used': 295, 'key': 156, 'binding': 43, 'msg_markunseen': 195, 'seem': 253, 'exist': 107, 'sure': 275, 'replace': 244, 'obviously': 213, 'way': 301, 'menu': 186, 'mark': 182, 'entry': 98, 'still': 271, 'wanting': 300, 'function': 132, 'defined': 88, 'window': 308, 'widen': 305, 'display': 92, 'chance': 59, 'lengthen': 163, 'instead': 150, 'like': 165, 'stuff': 272, 'nice': 210, 'columns': 69, 'fits': 115, 'better': 42, 'use': 294, 'detached': 89, 'column': 68, 'main': 177, 'takes': 278, 'full': 131, 'screen': 248, 'top': 284, 'bottom': 47, 'less': 164, 'half': 136, 'width': 307, 'etc': 100, 'space': 266, 'long': 171, 'remain': 240, 'narrow': 205, 'best': 41, 'would': 311, 'could': 76, 'ordered': 219, 'preference': 228, 'ones': 218, 'fit': 114, 'fall': 111, 'shown': 257, 'also': 27, 'prefer': 227, 'unusual': 290, 'background': 39, 'colouring': 67, 'constant': 72, 'colour': 66, 'running': 246, 'black': 44, 'root': 245, 'borders': 46, 'decorations': 85, 'made': 173, 'sticky': 270, 'appearance': 32, 'folders': 122, 'messages': 189, 'counts': 77, 'written': 312, 'small': 262, 'follows': 123, 'around': 35, 'see': 252, 'needs': 206, 'processing': 232, 'find': 112, 'tend': 279, 'bunch': 52, 'ever': 103, 'occur': 215, 'forgotten': 125, 'created': 78, 'addition': 22, 'always': 28, 'never': 207, 'useful': 296, 'occor': 214, 'visiting': 299, 'appear': 31, 'current': 80, 'keep': 155, 'size': 261, 'somewhat': 264, 'manageable': 180, 'remaining': 241, 'productive': 233, 'quite': 235, 'often': 216, 'remember': 243, 'particular': 222, 'name': 204, 'gives': 135, 'handle': 137, 'remains': 242, 'packed': 221, 'sorted': 265, 'updated': 291, 'next': 209, 'since': 259, 'bar': 40, 'search': 250, 'contains': 74, 'urgent': 293, 'contained': 73, 'happens': 138, 'previously': 229, 'done': 93, 'using': 297, 'pick': 224, 'interface': 152, 'clumsy': 63, 'actually': 20, 'try': 287, 'entering': 97, 'box': 49, 'single': 260, 'number': 212, 'range': 236, 'attributes': 37, 'syntax': 277, 'error': 99, 'expression': 110, 'int': 151, 'hit': 140, '3868': 11, '4878': 16, 'expr': 109, 'minlineno': 191, 'minmsgid': 192, 'maxlineno': 183, 'maxmsgid': 184, 'ftoc_findmsg': 128, '46': 12, 'ftoc_findmsgs': 129, 'msgids': 199, 'ftoc_pickmsgs': 130, 'ids': 148, 'addtosel': 24, 'pickinner': 226, '13': 4, 'exec': 105, '4852': 14, 'mercury': 187, 'uplevel': 292, 'cmd': 64, 'busycursorinner': 56, 'widgets': 306, 'busycursorhack': 55, '32': 10, 'args': 33, 'cursor': 81, 'arm': 34, 'switch': 276, 'busy': 53, 'style': 273, 'icon': 144, 'busyicon': 57, 'cursorall': 82, 'busycursor': 54, 'default': 87, 'msgs': 200, 'pick_it': 225, '51': 17, 'invoke': 153, 'tkbuttonup': 282, 'command': 71, 'bound': 48, 'event': 102, 'ages': 25, 'last': 161, 'though': 280, 'adding': 21, 'subject': 274, 'easy': 94, 'know': 157, 'difference': 90, 'looks': 172, 'something': 263, 'saying': 247, 'similar': 258, 'changed': 60, 'ftoc': 127, 'colorization': 65, 'discussed': 91, 'briefly': 50, 'week': 302, 'ago': 26, 'making': 179, 'little': 170, 'brighter': 51, 'make': 178, 'stand': 268, 'fraction': 126, 'maybe': 185, 'apparent': 30, 'many': 181, 'fonts': 124, 'everywhere': 104, 'wide': 304, 'hope': 141, 'helps': 139, 'kre': 158, '_______________________________________________': 19, 'workers': 310, 'mailing': 175, 'redhat': 238, 'https': 143, 'listman': 169, 'mailman': 176, 'listinfo': 168}\n"
     ]
    }
   ],
   "source": [
    "vectorizer = CountVectorizer(stop_words=list(stopwords.words('english')))\n",
    "print(vectorizer.fit_transform(content).todense())\n",
    "print(vectorizer.vocabulary_)"
   ]
  },
  {
   "cell_type": "code",
   "execution_count": 211,
   "metadata": {},
   "outputs": [],
   "source": [
    "spam_corpus = []\n",
    "\n",
    "# we append to the spam corpus both the text of the email body and a flag of 1\n",
    "# that denotes that the email is spam. Thus the current observation is of the form\n",
    "# ['TEXT', 1]\n",
    "\n",
    "for filename in os.listdir(SPAM_PATH):\n",
    "    text = get_email_content(os.path.join(SPAM_PATH,filename))\n",
    "    if text:\n",
    "        spam_corpus.append([text,1])\n",
    "    "
   ]
  },
  {
   "cell_type": "code",
   "execution_count": 212,
   "metadata": {},
   "outputs": [],
   "source": [
    "ham_corpus = []\n",
    "\n",
    "# same as above for spam_corpus but the current observation is of the form\n",
    "# ['TEXT', 0]\n",
    "\n",
    "for filename in os.listdir(HAM_PATH):\n",
    "    text = get_email_content(os.path.join(HAM_PATH,filename))\n",
    "    if text:\n",
    "        ham_corpus.append([text,0])\n",
    "\n",
    "    "
   ]
  },
  {
   "cell_type": "code",
   "execution_count": 219,
   "metadata": {},
   "outputs": [],
   "source": [
    "full_corpus = np.vstack([spam_corpus, ham_corpus])"
   ]
  },
  {
   "cell_type": "code",
   "execution_count": 220,
   "metadata": {},
   "outputs": [],
   "source": [
    "X = full_corpus[:,0]\n",
    "y = full_corpus[:,1]\n",
    "X_train, X_test, y_train, y_test = train_test_split(X, y, test_size=0.2, random_state=42)"
   ]
  },
  {
   "cell_type": "code",
   "execution_count": 221,
   "metadata": {},
   "outputs": [],
   "source": [
    "y_train = y_train.astype(np.int8)\n",
    "y_test = y_test.astype(np.int8)"
   ]
  },
  {
   "cell_type": "code",
   "execution_count": 222,
   "metadata": {},
   "outputs": [
    {
     "name": "stdout",
     "output_type": "stream",
     "text": [
      "Percentage of spam emails in train set: 16.44%\n",
      "Percentage of spam emails in test set: 17.34%\n"
     ]
    }
   ],
   "source": [
    "print(\"Percentage of spam emails in train set: {:.2%}\".format(y_train.sum()/len(X_train)))\n",
    "print(\"Percentage of spam emails in test set: {:.2%}\".format(y_test.sum()/len(X_test)))"
   ]
  },
  {
   "cell_type": "code",
   "execution_count": 284,
   "metadata": {},
   "outputs": [],
   "source": [
    "vectorizer = CountVectorizer(min_df=250,stop_words=list(stopwords.words('english')))\n",
    "X_train_vectorized = vectorizer.fit_transform(X_train).todense()"
   ]
  },
  {
   "cell_type": "code",
   "execution_count": 287,
   "metadata": {},
   "outputs": [
    {
     "data": {
      "text/plain": [
       "(6436, 437)"
      ]
     },
     "execution_count": 287,
     "metadata": {},
     "output_type": "execute_result"
    }
   ],
   "source": [
    "X_train_vectorized.shape"
   ]
  },
  {
   "cell_type": "code",
   "execution_count": 291,
   "metadata": {},
   "outputs": [],
   "source": [
    "gbclf = GradientBoostingClassifier()"
   ]
  },
  {
   "cell_type": "code",
   "execution_count": 295,
   "metadata": {},
   "outputs": [],
   "source": [
    "scores = cross_val_score(gbclf, X_train_vectorized, y_train, scoring=\"f1\")"
   ]
  },
  {
   "cell_type": "code",
   "execution_count": 296,
   "metadata": {},
   "outputs": [
    {
     "data": {
      "text/plain": [
       "array([0.86956522, 0.89795918, 0.85263158, 0.87939698, 0.89672544])"
      ]
     },
     "execution_count": 296,
     "metadata": {},
     "output_type": "execute_result"
    }
   ],
   "source": [
    "scores"
   ]
  },
  {
   "cell_type": "code",
   "execution_count": null,
   "metadata": {},
   "outputs": [],
   "source": []
  },
  {
   "cell_type": "code",
   "execution_count": 300,
   "metadata": {},
   "outputs": [
    {
     "data": {
      "text/plain": [
       "1"
      ]
     },
     "execution_count": 300,
     "metadata": {},
     "output_type": "execute_result"
    }
   ],
   "source": [
    "y_train[11]"
   ]
  },
  {
   "cell_type": "code",
   "execution_count": 302,
   "metadata": {},
   "outputs": [
    {
     "data": {
      "text/plain": [
       "matrix([[0, 3, 0, 0, 0, 0, 0, 0, 0, 0, 2, 0, 1, 2, 0, 0, 0, 0, 0, 0, 0,\n",
       "         0, 0, 0, 0, 0, 0, 0, 0, 1, 1, 0, 1, 1, 0, 0, 0, 0, 0, 0, 0, 0,\n",
       "         0, 0, 0, 0, 0, 0, 1, 0, 0, 0, 0, 5, 0, 0, 0, 0, 0, 0, 0, 0, 1,\n",
       "         0, 0, 0, 0, 0, 0, 0, 0, 0, 1, 0, 0, 0, 3, 0, 0, 1, 0, 0, 0, 0,\n",
       "         0, 0, 0, 0, 1, 1, 0, 1, 0, 0, 0, 0, 0, 4, 0, 0, 0, 0, 0, 0, 2,\n",
       "         0, 2, 0, 0, 0, 0, 0, 0, 0, 0, 0, 0, 0, 0, 0, 0, 0, 0, 0, 0, 0,\n",
       "         0, 0, 0, 0, 0, 0, 3, 0, 0, 0, 1, 0, 2, 0, 0, 0, 0, 0, 0, 0, 0,\n",
       "         0, 0, 0, 0, 0, 1, 0, 0, 0, 0, 0, 0, 0, 0, 0, 6, 1, 0, 0, 0, 0,\n",
       "         0, 0, 0, 0, 0, 1, 0, 0, 0, 0, 0, 0, 0, 0, 0, 0, 0, 0, 0, 0, 0,\n",
       "         0, 0, 1, 0, 0, 0, 0, 0, 4, 0, 3, 1, 0, 3, 0, 0, 0, 0, 0, 0, 0,\n",
       "         0, 0, 0, 0, 2, 0, 0, 0, 0, 0, 0, 0, 1, 0, 0, 0, 0, 0, 0, 0, 0,\n",
       "         1, 0, 2, 0, 1, 0, 0, 0, 1, 0, 8, 0, 0, 0, 0, 0, 0, 0, 0, 0, 0,\n",
       "         0, 0, 0, 0, 0, 1, 0, 0, 0, 0, 0, 0, 0, 0, 1, 0, 0, 0, 2, 0, 0,\n",
       "         0, 0, 0, 1, 0, 0, 0, 0, 0, 0, 0, 0, 0, 0, 1, 0, 0, 0, 0, 0, 0,\n",
       "         0, 0, 0, 0, 0, 0, 1, 1, 0, 0, 0, 0, 0, 0, 0, 0, 0, 0, 0, 0, 0,\n",
       "         0, 0, 0, 0, 0, 1, 0, 0, 1, 0, 0, 1, 0, 0, 0, 0, 0, 1, 0, 0, 0,\n",
       "         2, 1, 0, 0, 1, 1, 3, 0, 0, 0, 0, 0, 0, 2, 0, 3, 0, 1, 0, 0, 0,\n",
       "         0, 0, 0, 0, 0, 0, 0, 0, 0, 0, 0, 0, 0, 0, 0, 0, 0, 0, 0, 0, 0,\n",
       "         2, 0, 0, 0, 0, 1, 0, 1, 0, 0, 0, 0, 0, 0, 0, 0, 0, 0, 2, 0, 0,\n",
       "         0, 0, 0, 0, 0, 0, 0, 0, 0, 0, 1, 2, 0, 0, 1, 0, 0, 0, 0, 0, 0,\n",
       "         1, 0, 0, 0, 0, 1, 0, 0, 0, 0, 5, 0, 0, 0, 0, 0, 0]])"
      ]
     },
     "execution_count": 302,
     "metadata": {},
     "output_type": "execute_result"
    }
   ],
   "source": [
    "X_train_vectorized[11]"
   ]
  },
  {
   "cell_type": "code",
   "execution_count": 303,
   "metadata": {},
   "outputs": [],
   "source": [
    "gbclf2 = GradientBoostingClassifier()"
   ]
  },
  {
   "cell_type": "code",
   "execution_count": 304,
   "metadata": {},
   "outputs": [
    {
     "data": {
      "text/plain": [
       "GradientBoostingClassifier(ccp_alpha=0.0, criterion='friedman_mse', init=None,\n",
       "                           learning_rate=0.1, loss='deviance', max_depth=3,\n",
       "                           max_features=None, max_leaf_nodes=None,\n",
       "                           min_impurity_decrease=0.0, min_impurity_split=None,\n",
       "                           min_samples_leaf=1, min_samples_split=2,\n",
       "                           min_weight_fraction_leaf=0.0, n_estimators=100,\n",
       "                           n_iter_no_change=None, presort='deprecated',\n",
       "                           random_state=None, subsample=1.0, tol=0.0001,\n",
       "                           validation_fraction=0.1, verbose=0,\n",
       "                           warm_start=False)"
      ]
     },
     "execution_count": 304,
     "metadata": {},
     "output_type": "execute_result"
    }
   ],
   "source": [
    "gbclf2.fit(X_train_vectorized, y_train)"
   ]
  },
  {
   "cell_type": "code",
   "execution_count": 306,
   "metadata": {},
   "outputs": [
    {
     "data": {
      "text/plain": [
       "array([1], dtype=int8)"
      ]
     },
     "execution_count": 306,
     "metadata": {},
     "output_type": "execute_result"
    }
   ],
   "source": [
    "gbclf2.predict(X_train_vectorized[11])"
   ]
  },
  {
   "cell_type": "code",
   "execution_count": 331,
   "metadata": {},
   "outputs": [],
   "source": [
    "test_arr = np.array(vectorizer.transform([X_train[11]]).todense()[0])[0]"
   ]
  },
  {
   "cell_type": "code",
   "execution_count": 334,
   "metadata": {},
   "outputs": [],
   "source": [
    "freq_dict = dict()\n",
    "for key, value in vectorizer.vocabulary_.items():\n",
    "    if test_arr[value] != 0:\n",
    "        freq_dict[key] = test_arr[value]\n",
    "    "
   ]
  },
  {
   "cell_type": "code",
   "execution_count": 351,
   "metadata": {},
   "outputs": [],
   "source": [
    "freq_dict = {k: v for k, v in sorted(freq_dict.items(), key=lambda item: item[1])}\n"
   ]
  },
  {
   "cell_type": "code",
   "execution_count": 352,
   "metadata": {},
   "outputs": [
    {
     "data": {
      "image/png": "[encoded data removed]",
      "text/plain": [
       "<Figure size 1080x576 with 1 Axes>"
      ]
     },
     "metadata": {
      "needs_background": "light"
     },
     "output_type": "display_data"
    }
   ],
   "source": [
    "f, ax = plt.subplots(figsize=(15,8))\n",
    "plt.bar(freq_dict.keys(), freq_dict.values(),width=1.0, color='g')\n",
    "_ = plt.xticks(rotation=90)\n"
   ]
  },
  {
   "cell_type": "code",
   "execution_count": null,
   "metadata": {},
   "outputs": [],
   "source": []
  }
 ],
 "metadata": {
  "kernelspec": {
   "display_name": "hands_on_ml",
   "language": "python",
   "name": "hands_on_ml"
  },
  "language_info": {
   "codemirror_mode": {
    "name": "ipython",
    "version": 3
   },
   "file_extension": ".py",
   "mimetype": "text/x-python",
   "name": "python",
   "nbconvert_exporter": "python",
   "pygments_lexer": "ipython3",
   "version": "3.7.4"
  }
 },
 "nbformat": 4,
 "nbformat_minor": 4
}
